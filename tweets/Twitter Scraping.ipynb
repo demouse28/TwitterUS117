{
 "cells": [
  {
   "cell_type": "markdown",
   "id": "475dd5b1",
   "metadata": {},
   "source": [
    "# Do not run this notebook!"
   ]
  },
  {
   "cell_type": "code",
   "execution_count": 1,
   "id": "55a6f7dc",
   "metadata": {},
   "outputs": [],
   "source": [
    "# import libraries\n",
    "import pandas as pd \n",
    "import numpy as np \n",
    "import snscrape.modules.twitter as sntwitter \n",
    "from tqdm.notebook import tqdm_notebook \n",
    "from tqdm import tqdm"
   ]
  },
  {
   "cell_type": "code",
   "execution_count": null,
   "id": "44af5e11",
   "metadata": {},
   "outputs": [],
   "source": [
    "# get list of twitter handles\n",
    "usernames = pd.read_csv('../data/117th_congress_with_handles.csv', usecols = [3])\n",
    "users = usernames['handle'].tolist()"
   ]
  },
  {
   "cell_type": "code",
   "execution_count": null,
   "id": "08852dd2",
   "metadata": {},
   "outputs": [],
   "source": [
    "# scraping twitter\n",
    "import snscrape.modules.twitter as sntwitter\n",
    "twt_list = []\n",
    "\n",
    "for n, k in tqdm(enumerate(users)): \n",
    "    for i,tweet in enumerate(sntwitter.TwitterSearchScraper('from:{} since:2021-01-03 until:2023-01-03'.format(users[n])).get_items()):\n",
    "        twt_list.append([tweet.date, tweet.user.username, tweet.outlinks])   "
   ]
  },
  {
   "cell_type": "code",
   "execution_count": null,
   "id": "9a73384a",
   "metadata": {},
   "outputs": [],
   "source": [
    "# dataframe of all outlinks contained within tweets\n",
    "all_twt = pd.DataFrame(twt_list, columns=['Date', 'Username', 'Outlink'])"
   ]
  },
  {
   "cell_type": "code",
   "execution_count": null,
   "id": "8206afc8",
   "metadata": {},
   "outputs": [],
   "source": [
    "# converting to a csv file which will be used on the main report notebook\n",
    "all_twt.to_csv('../data/all_twt.csv')"
   ]
  }
 ],
 "metadata": {
  "kernelspec": {
   "display_name": "Python 3 (ipykernel)",
   "language": "python",
   "name": "python3"
  },
  "language_info": {
   "codemirror_mode": {
    "name": "ipython",
    "version": 3
   },
   "file_extension": ".py",
   "mimetype": "text/x-python",
   "name": "python",
   "nbconvert_exporter": "python",
   "pygments_lexer": "ipython3",
   "version": "3.9.12"
  },
  "toc": {
   "base_numbering": 1,
   "nav_menu": {
    "height": "82px",
    "width": "168px"
   },
   "number_sections": true,
   "sideBar": true,
   "skip_h1_title": false,
   "title_cell": "Table of Contents",
   "title_sidebar": "Contents",
   "toc_cell": false,
   "toc_position": {
    "height": "calc(100% - 180px)",
    "left": "10px",
    "top": "150px",
    "width": "251.594px"
   },
   "toc_section_display": true,
   "toc_window_display": true
  }
 },
 "nbformat": 4,
 "nbformat_minor": 5
}
